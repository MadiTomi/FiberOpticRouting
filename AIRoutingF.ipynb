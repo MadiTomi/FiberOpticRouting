# Install required dependencies for interactive features
import subprocess
import sys

def install_package(package):
    """Install a package using pip."""
    try:
        subprocess.check_call([sys.executable, "-m", "pip", "install", package])
        print(f"✓ Successfully installed {package}")
    except subprocess.CalledProcessError:
        print(f"✗ Failed to install {package}")

print("Installing required packages for interactive map features...")
packages = [
    "folium",
    "ipywidgets", 
    "jupyter-dash"
]

for package in packages:
    try:
        __import__(package.replace('-', '_'))
        print(f"✓ {package} already installed")
    except ImportError:
        print(f"Installing {package}...")
        install_package(package)

print("\nAll required packages are ready!")
print("You can now use the interactive features above.")# Enhanced Interactive Map with Click-to-Select Buildings

class AdvancedInteractiveNetwork(InteractiveFiberNetwork):
    """Enhanced version with click-to-select functionality on the map."""
    
    def create_clickable_map(self):
        """Creates a map where users can click on buildings to select them."""
        # Create base map
        m = self.create_interactive_map()
        
        # Add JavaScript for handling building selection
        click_handler = """
        <script>
        var selectedBuilding = null;
        var selectedPath = null;
        
        function selectBuilding(buildingId, x, y) {
            console.log('Building selected:', buildingId, x, y);
            selectedBuilding = {id: buildingId, x: x, y: y};
            
            // You can add more interactive features here
            alert('Building selected! ID: ' + buildingId + '\\nCoordinates: ' + x + ', ' + y + 
                  '\\n\\nPath calculation would happen here in a full web application.');
        }
        
        // Add click handler to building polygons
        document.addEventListener('DOMContentLoaded', function() {
            console.log('Map loaded and ready for interaction');
        });
        </script>
        """
        
        m.get_root().html.add_child(folium.Element(click_handler))
        return m
    
    def create_enhanced_building_polygons(self, m):
        """Add enhanced building polygons with better click handling."""
        for i, b in enumerate(self.building_polygons):
            geom = b['geometry']
            name = b['name']
            residents = b['residents']
            
            # Find corresponding building data
            building_data = None
            for building in self.buildings:
                if building.get('name') == name:
                    building_data = building
                    break
            
            building_id = building_data['id'] if building_data else i
            
            if geom['type'] == 'Polygon':
                coords = geom['coordinates'][0]
                polygon_coords = [[coord[1], coord[0]] for coord in coords]
                
                # Calculate centroid for click coordinates
                centroid_lat = sum(coord[0] for coord in polygon_coords) / len(polygon_coords)
                centroid_lon = sum(coord[1] for coord in polygon_coords) / len(polygon_coords)
                
                popup_html = f"""
                <div style='width: 250px; text-align: center;'>
                    <h4>{name}</h4>
                    <p><b>Жителей:</b> {residents}</p>
                    <p><b>Координаты:</b> {centroid_lon:.6f}, {centroid_lat:.6f}</p>
                    <button onclick='selectBuilding({building_id}, {centroid_lon}, {centroid_lat})' 
                            style='background-color: #4CAF50; color: white; padding: 8px 16px; 
                                   border: none; border-radius: 4px; cursor: pointer; font-size: 14px;'>
                        🏠 Выбрать здание
                    </button>
                </div>
                """
                
                folium.Polygon(
                    locations=polygon_coords,
                    popup=folium.Popup(popup_html, max_width=300),
                    color='brown',
                    fillColor='orange',
                    fillOpacity=0.4,
                    weight=2
                ).add_to(m)
        
        return m
    
    def show_enhanced_interactive_map(self):
        """Show the enhanced interactive map with better building selection."""
        m = self.create_clickable_map()
        m = self.create_enhanced_building_polygons(m)
        
        # Add current path if available
        if self.current_path:
            path_coords = [[coord[1], coord[0]] for coord in self.current_path]
            folium.PolyLine(
                locations=path_coords,
                color='red',
                weight=4,
                opacity=0.8,
                popup="Текущий маршрут подключения"
            ).add_to(m)
        
        # Save and open
        with tempfile.NamedTemporaryFile(mode='w', suffix='.html', delete=False) as f:
            m.save(f.name)
            print(f"Enhanced interactive map saved to: {f.name}")
            webbrowser.open('file://' + f.name)
            return f.name

# Create enhanced network instance
print("=== Enhanced Interactive Network ===")
enhanced_network = AdvancedInteractiveNetwork(
    roads_file="mainroads.geojson",
    muffs_file="centroidMufta.geojson", 
    manholes_file="manholesFinal.geojson",
    buildings_file="buildings.geojson"
)

# Show enhanced map
map_file = enhanced_network.show_enhanced_interactive_map()
print(f"Enhanced map opened: {map_file}")
print("\nInstructions for Enhanced Map:")
print("1. Click on any orange building polygon to see building details")
print("2. Click the 'Выбрать здание' button to select that building")
print("3. The selection will be logged (in a full app, it would calculate the route)")
print("4. You can zoom, pan, and switch between different map layers")# Alternative Usage Methods

# 2. Direct building selection by ID (for programmatic use)
print("\n=== Direct Building Selection ===")
if interactive_network.buildings:
    # Select a random building for demonstration
    import random
    sample_building = random.choice(interactive_network.buildings[:10])
    print(f"Selecting building: {sample_building['name']} (ID: {sample_building['id']})")
    
    # Calculate path and show map
    path = interactive_network.select_building_and_calculate_path(building_id=sample_building['id'])
    if path:
        map_file = interactive_network.show_interactive_map()
        print(f"Map with calculated route opened in browser: {map_file}")

print("\n" + "="*50)
print("Alternative Methods:")
print("1. interactive_network.select_building_and_calculate_path(building_id=123)")
print("2. interactive_network.select_building_and_calculate_path(building_coords=(71.123, 51.456))")
print("3. interactive_network.show_interactive_map()  # Show current state")
print("="*50)# Usage Examples for Interactive Building Selection

# 1. Show interactive map with building selector widget
print("=== Interactive Building Selection Widget ===")
interactive_network.create_building_selector_widget()

print("\n" + "="*50)
print("Instructions:")
print("1. Use the dropdown above to select a building")
print("2. Click 'Рассчитать маршрут' to calculate the optimal path")
print("3. The map will open in your browser showing the route")
print("="*50)# Interactive Map with OpenStreetMap and Building Selection
import folium
from folium import plugins
import webbrowser
import tempfile
import threading
from IPython.display import display, HTML
import ipywidgets as widgets
from ipywidgets import interact, interactive, fixed, interact_manual

class InteractiveFiberNetwork(FiberNetworkFromRealData):
    def __init__(self, roads_file=None, muffs_file=None, manholes_file=None, buildings_file=None):
        super().__init__(roads_file, muffs_file, manholes_file, buildings_file)
        self.selected_building = None
        self.current_path = None
        self.map_widget = None
        
    def create_interactive_map(self):
        """Creates an interactive map with OpenStreetMap background and clickable buildings."""
        # Calculate map center
        center_lat = (self.min_y + self.max_y) / 2
        center_lon = (self.min_x + self.max_x) / 2
        
        # Create base map with OpenStreetMap
        m = folium.Map(
            location=[center_lat, center_lon],
            zoom_start=14,
            tiles='OpenStreetMap'
        )
        
        # Add alternative tile layers
        folium.TileLayer('Stamen Terrain').add_to(m)
        folium.TileLayer('CartoDB positron').add_to(m)
        folium.LayerControl().add_to(m)
        
        # Add roads
        for road in self.roads:
            coords = road['coordinates']
            # Convert to lat/lon format for folium
            road_coords = [[coord[1], coord[0]] for coord in coords]
            folium.PolyLine(
                locations=road_coords,
                color='gray',
                weight=2,
                opacity=0.6
            ).add_to(m)
        
        # Add manholes (wells)
        for x, y, well_id, name in self.wells:
            folium.CircleMarker(
                location=[y, x],
                radius=6,
                popup=f"Колодец: {name} (ID: {well_id})",
                color='blue',
                fill=True,
                fillColor='lightblue'
            ).add_to(m)
        
        # Add muffs
        for x, y, free_vol, muff_id in self.muffs:
            folium.CircleMarker(
                location=[y, x],
                radius=8,
                popup=f"Муфта ID: {muff_id}<br>Свободно волокон: {free_vol}",
                color='red',
                fill=True,
                fillColor='pink'
            ).add_to(m)
        
        # Add ATS
        folium.Marker(
            location=[self.ats[1], self.ats[0]],
            popup="АТС (Автоматическая телефонная станция)",
            icon=folium.Icon(color='purple', icon='phone')
        ).add_to(m)
        
        # Add buildings with click functionality
        for building in self.buildings:
            if 'centroid' in building:
                x, y = building['centroid']
                # Create a clickable marker for each building
                marker = folium.Marker(
                    location=[y, x],
                    popup=f"""
                    <div style='width: 200px'>
                        <b>{building['name']}</b><br>
                        Тип: {building['type']}<br>
                        Жителей: {building['residents']}<br>
                        <button onclick='selectBuilding({building["id"]}, {x}, {y})' 
                                style='background-color: #4CAF50; color: white; padding: 5px 10px; border: none; border-radius: 3px; cursor: pointer;'>
                            Выбрать для подключения
                        </button>
                    </div>
                    """,
                    icon=folium.Icon(color='orange', icon='home')
                )
                marker.add_to(m)
        
        # Add building polygons if available
        for b in self.building_polygons:
            geom = b['geometry']
            name = b['name']
            residents = b['residents']
            
            if geom['type'] == 'Polygon':
                coords = geom['coordinates'][0]
                # Convert to lat/lon format
                polygon_coords = [[coord[1], coord[0]] for coord in coords]
                folium.Polygon(
                    locations=polygon_coords,
                    popup=f"{name}<br>Жителей: {residents}",
                    color='brown',
                    fillColor='orange',
                    fillOpacity=0.3
                ).add_to(m)
            elif geom['type'] == 'MultiPolygon':
                for poly_coords in geom['coordinates']:
                    polygon_coords = [[coord[1], coord[0]] for coord in poly_coords[0]]
                    folium.Polygon(
                        locations=polygon_coords,
                        popup=f"{name}<br>Жителей: {residents}",
                        color='brown',
                        fillColor='orange',
                        fillOpacity=0.3
                    ).add_to(m)
        
        return m
    
    def select_building_and_calculate_path(self, building_id=None, building_coords=None):
        """Selects a building and calculates the optimal path."""
        if building_id:
            # Find building by ID
            selected_building = None
            for building in self.buildings:
                if building['id'] == building_id:
                    selected_building = building
                    break
            
            if not selected_building:
                print(f"Building with ID {building_id} not found")
                return None
                
            building_point = selected_building['centroid']
            print(f"Selected building: {selected_building['name']} at {building_point}")
        elif building_coords:
            building_point = building_coords
            print(f"Selected building at coordinates: {building_point}")
        else:
            print("No building specified")
            return None
        
        self.selected_building = building_point
        
        # Find nearest muff
        if not self.muffs:
            print("No muffs available for connection")
            return None
            
        nearest_muff, distance = self.find_nearest_point(building_point, self.muffs)
        print(f"Nearest muff: {nearest_muff}, distance: {distance}")
        
        # Calculate path: ATS → muff → building
        path1 = self.find_path_through_infrastructure(self.ats, (nearest_muff[0], nearest_muff[1]))
        path2 = self.find_path_through_infrastructure((nearest_muff[0], nearest_muff[1]), building_point)
        full_path = path1[:-1] + path2  # merge paths, removing duplicate muff point
        
        self.current_path = full_path
        print(f"Path calculated with {len(full_path)} points")
        
        return full_path
    
    def create_interactive_map_with_path(self, building_id=None, building_coords=None):
        """Creates map with calculated path."""
        # Calculate path if building is specified
        if building_id or building_coords:
            self.select_building_and_calculate_path(building_id, building_coords)
        
        # Create base map
        m = self.create_interactive_map()
        
        # Add current path if available
        if self.current_path:
            path_coords = [[coord[1], coord[0]] for coord in self.current_path]
            folium.PolyLine(
                locations=path_coords,
                color='red',
                weight=4,
                opacity=0.8,
                popup="Маршрут подключения"
            ).add_to(m)
            
            # Add markers for start and end points
            if len(self.current_path) >= 2:
                # Start point (ATS)
                start = self.current_path[0]
                folium.Marker(
                    location=[start[1], start[0]],
                    popup="Начало маршрута (АТС)",
                    icon=folium.Icon(color='green', icon='play')
                ).add_to(m)
                
                # End point (selected building)
                end = self.current_path[-1]
                folium.Marker(
                    location=[end[1], end[0]],
                    popup="Конец маршрута (выбранное здание)",
                    icon=folium.Icon(color='red', icon='stop')
                ).add_to(m)
        
        return m
    
    def show_interactive_map(self):
        """Displays the interactive map in a new browser window."""
        m = self.create_interactive_map_with_path()
        
        # Save to temporary file and open in browser
        with tempfile.NamedTemporaryFile(mode='w', suffix='.html', delete=False) as f:
            m.save(f.name)
            print(f"Interactive map saved to: {f.name}")
            webbrowser.open('file://' + f.name)
            return f.name
    
    def create_building_selector_widget(self):
        """Creates an interactive widget for building selection."""
        if not self.buildings:
            print("No buildings available for selection")
            return
            
        # Create dropdown with building options
        building_options = [(f"{b['name']} (ID: {b['id']}, Residents: {b['residents']})", b['id']) 
                           for b in self.buildings[:50]]  # Limit to first 50 for performance
        
        building_dropdown = widgets.Dropdown(
            options=building_options,
            description='Здание:',
            style={'description_width': 'initial'},
            layout={'width': '500px'}
        )
        
        calculate_button = widgets.Button(
            description='Рассчитать маршрут',
            button_style='success',
            layout={'width': '200px'}
        )
        
        output_area = widgets.Output()
        
        def on_calculate_clicked(b):
            with output_area:
                output_area.clear_output()
                selected_id = building_dropdown.value
                if selected_id:
                    print(f"Calculating path for building ID: {selected_id}")
                    path = self.select_building_and_calculate_path(building_id=selected_id)
                    if path:
                        print("Path calculated successfully!")
                        # Create and show map
                        map_file = self.show_interactive_map()
                        print(f"Map updated and saved to: {map_file}")
                    else:
                        print("Failed to calculate path")
                else:
                    print("Please select a building first")
        
        calculate_button.on_click(on_calculate_clicked)
        
        # Display widgets
        display(widgets.VBox([
            widgets.HTML("<h3>Выбор здания для подключения</h3>"),
            building_dropdown,
            calculate_button,
            output_area
        ]))
        
        return building_dropdown, calculate_button, output_area

# Create enhanced network instance
print("Creating interactive fiber network...")
interactive_network = InteractiveFiberNetwork(
    roads_file="mainroads.geojson",
    muffs_file="centroidMufta.geojson", 
    manholes_file="manholesFinal.geojson",
    buildings_file="buildings.geojson"
)

print(f"Network loaded: {len(interactive_network.buildings)} buildings, {len(interactive_network.muffs)} muffs")
print("Ready for interactive building selection!"){
  "cells": [
    {
      "cell_type": "code",
      "execution_count": null,
      "id": "5dd138f5-5fbf-41cb-92a5-9cbef98fd4ff",
      "metadata": {
        "id": "5dd138f5-5fbf-41cb-92a5-9cbef98fd4ff",
        "outputId": "366a9690-78fc-4ab0-ba1f-881a42bb4720"
      },
      "outputs": [
        {
          "name": "stdout",
          "output_type": "stream",
          "text": [
            "Загружено дорог: 1145\n",
            "Загружено муфт: 58\n",
            "Загружено колодцев: 903\n",
            "Загружено зданий: 2128\n",
            "Дороги: 1145, Муфты: 58, Колодцы: 903, Здания: 2128\n",
            "Тестовые здания: 0, АТС: (71.47199859011246, 51.12441662982257)\n",
            "Выбрано реальное здание: None, центроид: (71.48388037999999, 51.13522842)\n",
            "Ближайшая муфта: (71.48579972437095, 51.134300580315475, 13, 53453), расстояние: 0.0021318464519081903\n",
            "Path1 (АТС → муфта): [(71.47199859011246, 51.12441662982257), (71.472438, 51.1242196), (71.4733247, 51.1240848), (71.4750436, 51.1238352), (71.4752691, 51.1238032), (71.4752924, 51.1238629), (71.4754513, 51.124271), (71.4755192, 51.1244455), (71.4757053, 51.1249235), (71.475808, 51.1251873), (71.4760017, 51.125685), (71.4760334, 51.1257701), (71.4760934, 51.1259208), (71.4763093, 51.1264753), (71.4763367, 51.1265456), (71.4764009, 51.1267069), (71.4764376, 51.1267986), (71.4767494, 51.1275776), (71.4770932, 51.1282446), (71.4771179, 51.1282951), (71.4776288, 51.1291096), (71.4777682, 51.1293465), (71.4781541, 51.130002), (71.4787563, 51.1310331), (71.4792606, 51.1319167), (71.4798394, 51.1328532), (71.480394, 51.1336899), (71.4830286, 51.1330682), (71.4831546, 51.1330573), (71.4832763, 51.1330828), (71.4847626, 51.1335047), (71.48579972437095, 51.134300580315475)]\n",
            "Path2 (муфта → здание): [(71.48579972437095, 51.134300580315475), (71.4847626, 51.1335047), (71.4841745, 51.1343614), (71.4835395, 51.1352747), (71.48388037999999, 51.13522842)]\n",
            "Full path: [(71.47199859011246, 51.12441662982257), (71.472438, 51.1242196), (71.4733247, 51.1240848), (71.4750436, 51.1238352), (71.4752691, 51.1238032), (71.4752924, 51.1238629), (71.4754513, 51.124271), (71.4755192, 51.1244455), (71.4757053, 51.1249235), (71.475808, 51.1251873), (71.4760017, 51.125685), (71.4760334, 51.1257701), (71.4760934, 51.1259208), (71.4763093, 51.1264753), (71.4763367, 51.1265456), (71.4764009, 51.1267069), (71.4764376, 51.1267986), (71.4767494, 51.1275776), (71.4770932, 51.1282446), (71.4771179, 51.1282951), (71.4776288, 51.1291096), (71.4777682, 51.1293465), (71.4781541, 51.130002), (71.4787563, 51.1310331), (71.4792606, 51.1319167), (71.4798394, 51.1328532), (71.480394, 51.1336899), (71.4830286, 51.1330682), (71.4831546, 51.1330573), (71.4832763, 51.1330828), (71.4847626, 51.1335047), (71.48579972437095, 51.134300580315475), (71.4847626, 51.1335047), (71.4841745, 51.1343614), (71.4835395, 51.1352747), (71.48388037999999, 51.13522842)]\n",
            "График сохранен в 'network_visualization.html'\n"
          ]
        }
      ],
      "source": [
        "import matplotlib.pyplot as plt\n",
        "import matplotlib.patches as patches\n",
        "from matplotlib.patches import Polygon\n",
        "import numpy as np\n",
        "import json\n",
        "import math\n",
        "import plotly.graph_objects as go\n",
        "from collections import defaultdict\n",
        "import heapq\n",
        "import os\n",
        "from shapely.geometry import Point, Polygon as ShapelyPolygon, MultiPolygon\n",
        "from shapely.ops import unary_union\n",
        "import random\n",
        "import plotly.io as pio\n",
        "\n",
        "class FiberNetworkFromRealData:\n",
        "    def __init__(self, roads_file=None, muffs_file=None, manholes_file=None, buildings_file=None):\n",
        "        self.roads = []\n",
        "        self.road_nodes = {}\n",
        "        self.road_graph = defaultdict(list)\n",
        "        self.ats = None\n",
        "        self.wells = []\n",
        "        self.muffs = []\n",
        "        self.buildings = []\n",
        "        self.building_polygons = []\n",
        "        self.test_buildings = []\n",
        "        self.min_x = self.max_x = self.min_y = self.max_y = 0\n",
        "        self.load_all_data(roads_file, muffs_file, manholes_file, buildings_file)\n",
        "\n",
        "    def load_all_data(self, roads_file, muffs_file, manholes_file, buildings_file):\n",
        "        \"\"\"Загружает все данные из файлов или создает тестовые данные.\"\"\"\n",
        "        if roads_file and os.path.exists(roads_file):\n",
        "            self.load_roads(roads_file)\n",
        "        if muffs_file and os.path.exists(muffs_file):\n",
        "            self.load_muffs(muffs_file)\n",
        "        if manholes_file and os.path.exists(manholes_file):\n",
        "            self.load_manholes(manholes_file)\n",
        "        if buildings_file and os.path.exists(buildings_file):\n",
        "            self.load_buildings(buildings_file)\n",
        "\n",
        "        if not self.roads and not self.wells and not self.muffs and not self.buildings:\n",
        "            self._create_test_data()\n",
        "            return\n",
        "\n",
        "        self._build_road_graph()\n",
        "        self._calculate_bounds()\n",
        "        self._set_ats_position()\n",
        "\n",
        "        if not self.buildings:\n",
        "            self._create_test_buildings()\n",
        "\n",
        "    def load_roads(self, filename):\n",
        "        \"\"\"Загружает дорожную сеть из GeoJSON файла.\"\"\"\n",
        "        try:\n",
        "            with open(filename, 'r', encoding='utf-8') as f:\n",
        "                data = json.load(f)\n",
        "            for feature in data['features']:\n",
        "                if feature['geometry']['type'] in ['LineString', 'MultiLineString']:\n",
        "                    self._process_road_feature(feature)\n",
        "            print(f\"Загружено дорог: {len(self.roads)}\")\n",
        "        except Exception as e:\n",
        "            print(f\"Ошибка загрузки дорог: {e}\")\n",
        "\n",
        "    def load_muffs(self, filename):\n",
        "        \"\"\"Загружает муфты из GeoJSON файла.\"\"\"\n",
        "        try:\n",
        "            with open(filename, 'r', encoding='utf-8') as f:\n",
        "                data = json.load(f)\n",
        "            for feature in data['features']:\n",
        "                if feature['geometry']['type'] == 'Point':\n",
        "                    coords = feature['geometry']['coordinates']\n",
        "                    props = feature['properties']\n",
        "                    x, y = coords[0], coords[1]\n",
        "                    muff_id = props.get('MnId', props.get('id', 0))\n",
        "                    free_vol = props.get('freevol', 16)\n",
        "                    self.muffs.append((x, y, free_vol, muff_id))\n",
        "            print(f\"Загружено муфт: {len(self.muffs)}\")\n",
        "        except Exception as e:\n",
        "            print(f\"Ошибка загрузки муфт: {e}\")\n",
        "\n",
        "    def load_manholes(self, filename):\n",
        "        \"\"\"Загружает колодцы из GeoJSON файла.\"\"\"\n",
        "        try:\n",
        "            with open(filename, 'r', encoding='utf-8') as f:\n",
        "                data = json.load(f)\n",
        "            for feature in data['features']:\n",
        "                if feature['geometry']['type'] == 'Point':\n",
        "                    coords = feature['geometry']['coordinates']\n",
        "                    props = feature['properties']\n",
        "                    x, y = coords[0], coords[1]\n",
        "                    well_id = props.get('id', 0)\n",
        "                    name = props.get('Name', f'Колодец_{well_id}')\n",
        "                    self.wells.append((x, y, well_id, name))\n",
        "            print(f\"Загружено колодцев: {len(self.wells)}\")\n",
        "        except Exception as e:\n",
        "            print(f\"Ошибка загрузки колодцев: {e}\")\n",
        "\n",
        "    def load_buildings(self, filename):\n",
        "        \"\"\"Загружает здания из GeoJSON файла.\"\"\"\n",
        "        try:\n",
        "            with open(filename, 'r', encoding='utf-8') as f:\n",
        "                data = json.load(f)\n",
        "            for feature in data['features']:\n",
        "                geom = feature['geometry']\n",
        "                props = feature['properties']\n",
        "                if geom['type'] in ['Polygon', 'MultiPolygon']:\n",
        "                    self._process_building_feature(feature)\n",
        "            print(f\"Загружено зданий: {len(self.buildings)}\")\n",
        "        except Exception as e:\n",
        "            print(f\"Ошибка загрузки зданий: {e}\")\n",
        "\n",
        "    def _process_building_feature(self, feature):\n",
        "        \"\"\"Обрабатывает здание из GeoJSON.\"\"\"\n",
        "        geom = feature['geometry']\n",
        "        props = feature['properties']\n",
        "        building_id = props.get('full_id', props.get('id', len(self.buildings)))\n",
        "        name = props.get('name', f'Здание_{building_id}')\n",
        "        building_type = props.get('building', 'residential')\n",
        "        residents = self._estimate_building_residents(geom, building_type, props)\n",
        "        centroid = self._calculate_building_centroid(geom)\n",
        "        if centroid:\n",
        "            self.buildings.append({\n",
        "                'id': building_id,\n",
        "                'name': name,\n",
        "                'type': building_type,\n",
        "                'centroid': centroid,\n",
        "                'residents': residents,\n",
        "                'properties': props,\n",
        "                'geometry': geom\n",
        "            })\n",
        "            self.building_polygons.append({\n",
        "                'geometry': geom,\n",
        "                'properties': props,\n",
        "                'residents': residents,\n",
        "                'name': name\n",
        "            })\n",
        "\n",
        "    def _calculate_building_centroid(self, geometry):\n",
        "        \"\"\"Вычисляет центроид здания.\"\"\"\n",
        "        try:\n",
        "            if geometry['type'] == 'Polygon':\n",
        "                coords = geometry['coordinates'][0]\n",
        "                x_sum = sum(coord[0] for coord in coords)\n",
        "                y_sum = sum(coord[1] for coord in coords)\n",
        "                count = len(coords)\n",
        "                return (x_sum / count, y_sum / count)\n",
        "            elif geometry['type'] == 'MultiPolygon':\n",
        "                all_coords = []\n",
        "                for polygon in geometry['coordinates']:\n",
        "                    all_coords.extend(polygon[0])\n",
        "                if all_coords:\n",
        "                    x_sum = sum(coord[0] for coord in all_coords)\n",
        "                    y_sum = sum(coord[1] for coord in all_coords)\n",
        "                    count = len(all_coords)\n",
        "                    return (x_sum / count, y_sum / count)\n",
        "            return None\n",
        "        except Exception as e:\n",
        "            print(f\"Ошибка вычисления центроида: {e}\")\n",
        "            return None\n",
        "\n",
        "    def _estimate_building_residents(self, geometry, building_type, properties):\n",
        "        \"\"\"Оценивает количество жителей в здании.\"\"\"\n",
        "        try:\n",
        "            area = self._calculate_polygon_area(geometry)\n",
        "            if building_type in ['apartments', 'residential']:\n",
        "                base_residents = max(50, int(area * 100000 * 0.02))\n",
        "            elif building_type in ['house', 'detached']:\n",
        "                base_residents = np.random.randint(3, 6)\n",
        "            elif building_type in ['commercial', 'office']:\n",
        "                base_residents = max(10, int(area * 100000 * 0.005))\n",
        "            else:\n",
        "                base_residents = max(20, int(area * 100000 * 0.01))\n",
        "            variation = int(base_residents * 0.3)\n",
        "            residents = max(1, base_residents + np.random.randint(-variation, variation + 1))\n",
        "            return residents\n",
        "        except Exception as e:\n",
        "            print(f\"Ошибка оценки жителей: {e}\")\n",
        "            return np.random.randint(50, 200)\n",
        "\n",
        "    def _calculate_polygon_area(self, geometry):\n",
        "        \"\"\"Приблизительно вычисляет площадь полигона.\"\"\"\n",
        "        try:\n",
        "            if geometry['type'] == 'Polygon':\n",
        "                coords = geometry['coordinates'][0]\n",
        "                return self._shoelace_area(coords)\n",
        "            elif geometry['type'] == 'MultiPolygon':\n",
        "                total_area = 0\n",
        "                for polygon in geometry['coordinates']:\n",
        "                    total_area += self._shoelace_area(polygon[0])\n",
        "                return total_area\n",
        "            return 0\n",
        "        except Exception:\n",
        "            return 0\n",
        "\n",
        "    def _shoelace_area(self, coords):\n",
        "        \"\"\"Вычисляет площадь полигона по формуле шнурка.\"\"\"\n",
        "        if len(coords) < 3:\n",
        "            return 0\n",
        "        area = 0\n",
        "        for i in range(len(coords) - 1):\n",
        "            area += coords[i][0] * coords[i + 1][1]\n",
        "            area -= coords[i + 1][0] * coords[i][1]\n",
        "        return abs(area) / 2\n",
        "\n",
        "    def _process_road_feature(self, feature):\n",
        "        \"\"\"Обрабатывает дорожный объект из GeoJSON.\"\"\"\n",
        "        props = feature['properties']\n",
        "        geom = feature['geometry']\n",
        "        if geom['type'] == 'LineString':\n",
        "            coordinates = geom['coordinates']\n",
        "            self._add_road_segment(coordinates, props)\n",
        "        elif geom['type'] == 'MultiLineString':\n",
        "            for line_coords in geom['coordinates']:\n",
        "                self._add_road_segment(line_coords, props)\n",
        "\n",
        "    def _add_road_segment(self, coordinates, properties):\n",
        "        \"\"\"Добавляет сегмент дороги в граф.\"\"\"\n",
        "        if len(coordinates) < 2:\n",
        "            return\n",
        "        road_info = {\n",
        "            'coordinates': coordinates,\n",
        "            'properties': properties,\n",
        "            'highway': properties.get('highway', 'unknown'),\n",
        "            'name': properties.get('name', 'Безымянная'),\n",
        "            'surface': properties.get('surface', 'unknown')\n",
        "        }\n",
        "        self.roads.append(road_info)\n",
        "        for i, coord in enumerate(coordinates):\n",
        "            x, y = coord[0], coord[1]\n",
        "            node_id = f\"{x:.6f}_{y:.6f}\"\n",
        "            if node_id not in self.road_nodes:\n",
        "                self.road_nodes[node_id] = (x, y)\n",
        "            if i > 0:\n",
        "                prev_coord = coordinates[i-1]\n",
        "                prev_node_id = f\"{prev_coord[0]:.6f}_{prev_coord[1]:.6f}\"\n",
        "                distance = math.sqrt((x - prev_coord[0])**2 + (y - prev_coord[1])**2)\n",
        "                self.road_graph[prev_node_id].append((node_id, distance))\n",
        "                self.road_graph[node_id].append((prev_node_id, distance))\n",
        "\n",
        "    def _build_road_graph(self):\n",
        "        \"\"\"Построение графа дорожной сети (выполняется в _add_road_segment).\"\"\"\n",
        "        pass\n",
        "\n",
        "    def _calculate_bounds(self):\n",
        "        \"\"\"Вычисляет границы карты.\"\"\"\n",
        "        all_coords = []\n",
        "        for road in self.roads:\n",
        "            all_coords.extend(road['coordinates'])\n",
        "        for muff in self.muffs:\n",
        "            all_coords.append((muff[0], muff[1]))\n",
        "        for well in self.wells:\n",
        "            all_coords.append((well[0], well[1]))\n",
        "        for building in self.buildings:\n",
        "            if 'centroid' in building:\n",
        "                all_coords.append(building['centroid'])\n",
        "        for building in self.test_buildings:\n",
        "            all_coords.append((building[0], building[1]))\n",
        "        if all_coords:\n",
        "            all_x = [coord[0] for coord in all_coords]\n",
        "            all_y = [coord[1] for coord in all_coords]\n",
        "            self.min_x, self.max_x = min(all_x), max(all_x)\n",
        "            self.min_y, self.max_y = min(all_y), max(all_y)\n",
        "        else:\n",
        "            self.min_x = self.max_x = self.min_y = self.max_y = 0\n",
        "\n",
        "    def _set_ats_position(self):\n",
        "        \"\"\"Устанавливает позицию АТС.\"\"\"\n",
        "        if self.muffs:\n",
        "            self.ats = (self.muffs[0][0], self.muffs[0][1])\n",
        "        elif self.wells:\n",
        "            self.ats = (self.wells[0][0], self.wells[0][1])\n",
        "        elif self.road_nodes:\n",
        "            first_node = list(self.road_nodes.values())[0]\n",
        "            self.ats = first_node\n",
        "        else:\n",
        "            self.ats = (71.47, 51.13)\n",
        "\n",
        "    def _create_test_buildings(self):\n",
        "        \"\"\"Создает тестовые здания рядом с инфраструктурой.\"\"\"\n",
        "        building_positions = []\n",
        "        for i, muff in enumerate(self.muffs[:3]):\n",
        "            x, y = muff[0], muff[1]\n",
        "            offset_x = 0.002 * (1 if i % 2 == 0 else -1)\n",
        "            offset_y = 0.002 * (1 if i < 2 else -1)\n",
        "            residents = np.random.randint(100, 400)\n",
        "            building_positions.append((x + offset_x, y + offset_y, residents))\n",
        "        for i, well in enumerate(self.wells[:3]):\n",
        "            x, y = well[0], well[1]\n",
        "            offset_x = 0.003 * (1 if i % 2 == 0 else -1)\n",
        "            offset_y = 0.001 * (1 if i < 2 else -1)\n",
        "            residents = np.random.randint(50, 250)\n",
        "            building_positions.append((x + offset_x, y + offset_y, residents))\n",
        "        self.test_buildings = building_positions[:6]\n",
        "\n",
        "    def _create_test_data(self):\n",
        "        \"\"\"Создает тестовые данные, если реальные файлы недоступны.\"\"\"\n",
        "        print(\"Создание тестовых данных...\")\n",
        "        base_x, base_y = 71.47, 51.13\n",
        "        test_roads = [\n",
        "            [(base_x, base_y), (base_x + 0.01, base_y), (base_x + 0.02, base_y)],\n",
        "            [(base_x, base_y + 0.01), (base_x + 0.01, base_y + 0.01), (base_x + 0.02, base_y + 0.01)],\n",
        "            [(base_x + 0.01, base_y), (base_x + 0.01, base_y + 0.01)],\n",
        "        ]\n",
        "        for road_coords in test_roads:\n",
        "            props = {'highway': 'residential', 'name': 'Test Road'}\n",
        "            self._add_road_segment(road_coords, props)\n",
        "        self.muffs = [\n",
        "            (base_x + 0.005, base_y + 0.005, 16, 1),\n",
        "            (base_x + 0.015, base_y + 0.008, 12, 2)\n",
        "        ]\n",
        "        self.wells = [\n",
        "            (base_x + 0.003, base_y + 0.003, 1, \"Test Well 1\"),\n",
        "            (base_x + 0.008, base_y + 0.007, 2, \"Test Well 2\"),\n",
        "            (base_x + 0.012, base_y + 0.004, 3, \"Test Well 3\")\n",
        "        ]\n",
        "        self.ats = (base_x, base_y)\n",
        "        self._calculate_bounds()\n",
        "        self._create_test_buildings()\n",
        "\n",
        "    def find_nearest_point(self, target, point_list):\n",
        "        \"\"\"Ищет ближайшую точку из списка.\"\"\"\n",
        "        min_distance = float('inf')\n",
        "        nearest_point = None\n",
        "        for point in point_list:\n",
        "            if isinstance(point, tuple):\n",
        "                x, y = point[0], point[1]\n",
        "            else:\n",
        "                x, y = point['centroid'] if 'centroid' in point else (point[0], point[1])\n",
        "            distance = math.sqrt((target[0] - x)**2 + (target[1] - y)**2)\n",
        "            if distance < min_distance:\n",
        "                min_distance = distance\n",
        "                nearest_point = point\n",
        "        return nearest_point, min_distance\n",
        "\n",
        "    def find_path_through_infrastructure(self, start, end):\n",
        "        \"\"\"Находит путь через дорожную сеть.\"\"\"\n",
        "        def find_nearest_road_node(point):\n",
        "            min_dist = float('inf')\n",
        "            nearest_node_id = None\n",
        "            px, py = point\n",
        "            for node_id, (x, y) in self.road_nodes.items():\n",
        "                dist = math.hypot(px - x, py - y)\n",
        "                if dist < min_dist:\n",
        "                    min_dist = dist\n",
        "                    nearest_node_id = node_id\n",
        "            return nearest_node_id\n",
        "\n",
        "        def dijkstra(start_node_id, end_node_id):\n",
        "            visited = set()\n",
        "            min_heap = [(0, start_node_id, [])]\n",
        "            while min_heap:\n",
        "                cost, current_node, path = heapq.heappop(min_heap)\n",
        "                if current_node in visited:\n",
        "                    continue\n",
        "                visited.add(current_node)\n",
        "                path = path + [current_node]\n",
        "                if current_node == end_node_id:\n",
        "                    return [self.road_nodes[nid] for nid in path]\n",
        "                for neighbor, weight in self.road_graph.get(current_node, []):\n",
        "                    if neighbor not in visited:\n",
        "                        heapq.heappush(min_heap, (cost + weight, neighbor, path))\n",
        "            return []\n",
        "\n",
        "        start_node_id = find_nearest_road_node(start)\n",
        "        end_node_id = find_nearest_road_node(end)\n",
        "        if start_node_id and end_node_id:\n",
        "            path_coords = dijkstra(start_node_id, end_node_id)\n",
        "            if path_coords:\n",
        "                if path_coords[0] != start:\n",
        "                    path_coords = [start] + path_coords\n",
        "                if path_coords[-1] != end:\n",
        "                    path_coords.append(end)\n",
        "                return path_coords\n",
        "        return [start, end]\n",
        "\n",
        "    def visualize_path_plotly(self, start, end, path_coords):\n",
        "        \"\"\"Визуализирует сеть и маршрут с помощью Plotly.\"\"\"\n",
        "        fig = go.Figure()\n",
        "\n",
        "        # Дороги (серые линии)\n",
        "        for road in self.roads:\n",
        "            coords = road['coordinates']\n",
        "            xs, ys = zip(*coords)\n",
        "            fig.add_trace(go.Scattergl(\n",
        "                x=xs, y=ys,\n",
        "                mode='lines',\n",
        "                line=dict(color='lightgray', width=2),\n",
        "                name='Дорога',\n",
        "                hoverinfo='skip',\n",
        "                showlegend=False\n",
        "            ))\n",
        "\n",
        "        # Колодцы (синие круги)\n",
        "        xs, ys, labels = [], [], []\n",
        "        for x, y, well_id, name in self.wells:\n",
        "            xs.append(x)\n",
        "            ys.append(y)\n",
        "            labels.append(f\"Колодец: {name} (ID: {well_id})\")\n",
        "        fig.add_trace(go.Scattergl(\n",
        "            x=xs, y=ys,\n",
        "            mode='markers',\n",
        "            marker=dict(color='blue', size=10, line=dict(width=1, color='darkblue')),\n",
        "            name='Колодец',\n",
        "            text=labels,\n",
        "            hoverinfo='text'\n",
        "        ))\n",
        "\n",
        "        # Муфты (красные круги)\n",
        "        xs, ys, labels = [], [], []\n",
        "        for x, y, free_vol, muff_id in self.muffs:\n",
        "            xs.append(x)\n",
        "            ys.append(y)\n",
        "            labels.append(f\"Муфта ID: {muff_id}<br>Свободно волокон: {free_vol}\")\n",
        "        fig.add_trace(go.Scattergl(\n",
        "            x=xs, y=ys,\n",
        "            mode='markers',\n",
        "            marker=dict(color='red', size=10, line=dict(width=1, color='darkred')),\n",
        "            name='Муфта',\n",
        "            text=labels,\n",
        "            hoverinfo='text'\n",
        "        ))\n",
        "\n",
        "        # Здания (оранжевые полигоны)\n",
        "        for b in self.building_polygons:\n",
        "            geom = b['geometry']\n",
        "            name = b['name']\n",
        "            residents = b['residents']\n",
        "            if geom['type'] == 'Polygon':\n",
        "                coords = geom['coordinates'][0]\n",
        "                xs, ys = zip(*coords)\n",
        "                fig.add_trace(go.Scattergl(\n",
        "                    x=xs, y=ys,\n",
        "                    mode='lines',\n",
        "                    fill='toself',\n",
        "                    fillcolor='rgba(255, 165, 0, 0.5)',\n",
        "                    line=dict(color='brown', width=1.5),\n",
        "                    name='Здание',\n",
        "                    text=[f\"{name}<br>Жителей: {residents}\"] * len(xs),\n",
        "                    hoverinfo='text',\n",
        "                    showlegend=False\n",
        "                ))\n",
        "            elif geom['type'] == 'MultiPolygon':\n",
        "                for poly_coords in geom['coordinates']:\n",
        "                    xs, ys = zip(*poly_coords[0])\n",
        "                    fig.add_trace(go.Scattergl(\n",
        "                        x=xs, y=ys,\n",
        "                        mode='lines',\n",
        "                        fill='toself',\n",
        "                        fillcolor='rgba(255, 165, 0, 0.5)',\n",
        "                        line=dict(color='brown', width=1.5),\n",
        "                        name='Здание',\n",
        "                        text=[f\"{name}<br>Жителей: {residents}\"] * len(xs),\n",
        "                        hoverinfo='text',\n",
        "                        showlegend=False\n",
        "                    ))\n",
        "\n",
        "        # Маршрут (красная линия)\n",
        "        if path_coords:\n",
        "            xs, ys = zip(*path_coords)\n",
        "            fig.add_trace(go.Scattergl(\n",
        "                x=xs, y=ys,\n",
        "                mode='lines+markers',\n",
        "                line=dict(color='red', width=4),\n",
        "                marker=dict(size=8, color='red'),\n",
        "                name='Маршрут',\n",
        "                hoverinfo='none'\n",
        "            ))\n",
        "\n",
        "        # АТС (фиолетовый квадрат)\n",
        "        fig.add_trace(go.Scattergl(\n",
        "            x=[start[0]], y=[start[1]],\n",
        "            mode='markers',\n",
        "            marker=dict(color='magenta', size=14, symbol='square', line=dict(width=1, color='black')),\n",
        "            name='АТС (старт)',\n",
        "            hoverinfo='text',\n",
        "            text=['АТС']\n",
        "        ))\n",
        "\n",
        "        # Здание (черный квадрат)\n",
        "        fig.add_trace(go.Scattergl(\n",
        "            x=[end[0]], y=[end[1]],\n",
        "            mode='markers',\n",
        "            marker=dict(color='black', size=14, symbol='square', line=dict(width=1, color='white')),\n",
        "            name='Здание (финиш)',\n",
        "            hoverinfo='text',\n",
        "            text=['Финиш']\n",
        "        ))\n",
        "\n",
        "        # Настройка графика\n",
        "        fig.update_layout(\n",
        "            title=\"Интерактивный маршрут подключения\",\n",
        "            xaxis_title=\"Долгота\",\n",
        "            yaxis_title=\"Широта\",\n",
        "            showlegend=True,\n",
        "            legend=dict(x=0.01, y=0.99, bgcolor='rgba(255, 255, 255, 0.8)'),\n",
        "            hovermode='closest',\n",
        "            dragmode='pan',\n",
        "            margin=dict(l=0, r=0, t=50, b=0),\n",
        "            xaxis=dict(\n",
        "                scaleanchor=\"y\",\n",
        "                scaleratio=1,\n",
        "                showgrid=False,\n",
        "                zeroline=False\n",
        "            ),\n",
        "            yaxis=dict(\n",
        "                showgrid=False,\n",
        "                zeroline=False\n",
        "            ),\n",
        "            plot_bgcolor='white',\n",
        "            paper_bgcolor='white'\n",
        "        )\n",
        "\n",
        "        # Сохраняем график в HTML для отладки\n",
        "        fig.write_html(\"network_visualization.html\")\n",
        "        print(\"График сохранен в 'network_visualization.html'\")\n",
        "\n",
        "        # Показываем график\n",
        "        fig.show()\n",
        "\n",
        "if __name__ == \"__main__\":\n",
        "    # Устанавливаем рендерер для отображения в браузере (для скриптов вне Jupyter)\n",
        "    pio.renderers.default = 'browser'\n",
        "\n",
        "    # Укажи реальные пути к файлам, если они у тебя есть\n",
        "    roads_file = \"mainroads.geojson\"\n",
        "    muffs_file = \"centroidMufta.geojson\"\n",
        "    manholes_file = \"manholesFinal.geojson\"\n",
        "    buildings_file = \"buildings.geojson\"\n",
        "\n",
        "    # Проверяем наличие файлов\n",
        "    for file in [roads_file, muffs_file, manholes_file, buildings_file]:\n",
        "        if file and not os.path.exists(file):\n",
        "            print(f\"Файл {file} не найден, будут использованы тестовые данные.\")\n",
        "\n",
        "    # Создаем объект сети\n",
        "    network = FiberNetworkFromRealData(\n",
        "        roads_file=roads_file,\n",
        "        muffs_file=muffs_file,\n",
        "        manholes_file=manholes_file,\n",
        "        buildings_file=buildings_file\n",
        "    )\n",
        "\n",
        "    # Проверяем, что данные загружены\n",
        "    print(f\"Дороги: {len(network.roads)}, Муфты: {len(network.muffs)}, Колодцы: {len(network.wells)}, Здания: {len(network.buildings)}\")\n",
        "    print(f\"Тестовые здания: {len(network.test_buildings)}, АТС: {network.ats}\")\n",
        "\n",
        "    # Выбираем здание случайно (реальное или тестовое)\n",
        "    if network.buildings:\n",
        "        target_building = random.choice(network.buildings)\n",
        "        building_point = target_building['centroid']\n",
        "        print(f\"Выбрано реальное здание: {target_building['name']}, центроид: {building_point}\")\n",
        "    elif network.test_buildings:\n",
        "        target_building = random.choice(network.test_buildings)\n",
        "        building_point = (target_building[0], target_building[1])\n",
        "        print(f\"Выбрано тестовое здание, координаты: {building_point}\")\n",
        "    else:\n",
        "        print(\"Нет доступных зданий для подключения.\")\n",
        "        exit(1)\n",
        "\n",
        "    # Проверяем наличие муфт\n",
        "    if not network.muffs:\n",
        "        print(\"Нет доступных муфт для подключения.\")\n",
        "        exit(1)\n",
        "\n",
        "    # Выбираем ближайшую муфту\n",
        "    nearest_muff, distance = network.find_nearest_point(building_point, network.muffs)\n",
        "    print(f\"Ближайшая муфта: {nearest_muff}, расстояние: {distance}\")\n",
        "\n",
        "    # Строим маршрут: АТС → муфта → здание\n",
        "    path1 = network.find_path_through_infrastructure(network.ats, (nearest_muff[0], nearest_muff[1]))\n",
        "    path2 = network.find_path_through_infrastructure((nearest_muff[0], nearest_muff[1]), building_point)\n",
        "    full_path = path1[:-1] + path2  # соединяем, убирая дублирующую муфту\n",
        "    print(f\"Path1 (АТС → муфта): {path1}\")\n",
        "    print(f\"Path2 (муфта → здание): {path2}\")\n",
        "    print(f\"Full path: {full_path}\")\n",
        "\n",
        "    # Визуализация\n",
        "    try:\n",
        "        network.visualize_path_plotly(start=network.ats, end=building_point, path_coords=full_path)\n",
        "    except Exception as e:\n",
        "        print(f\"Ошибка при визуализации: {e}\")\n",
        "        print(\"Проверьте 'network_visualization.html' для результатов.\")"
      ]
    },
    {
      "cell_type": "code",
      "execution_count": null,
      "id": "644c87b1-18fa-489b-beaa-43dfb54f0566",
      "metadata": {
        "id": "644c87b1-18fa-489b-beaa-43dfb54f0566",
        "outputId": "f9f54933-83e9-4f93-b642-86333067f40c"
      },
      "outputs": [
        {
          "name": "stdout",
          "output_type": "stream",
          "text": [
            "Загружено дорог: 1145\n",
            "Загружено муфт: 58\n",
            "Загружено колодцев: 903\n",
            "Загружено зданий: 2128\n",
            "Дороги: 1145, Муфты: 58, Колодцы: 903, Здания: 2128\n",
            "Тестовые здания: 0, АТС: (71.47199859011246, 51.12441662982257)\n",
            "Выбрано реальное здание: None, центроид: (71.46486093333334, 51.145592244444444)\n",
            "Ближайшая муфта: (71.4645725741037, 51.1460204283819, 6, 235), расстояние: 0.0005162291444868338\n",
            "Path1 (АТС → муфта): [(71.47199859011246, 51.12441662982257), (71.472438, 51.1242196), (71.469684, 51.1246545), (71.4693061, 51.1247227), (71.4693617, 51.1248567), (71.4695185, 51.1251956), (71.4703025, 51.1269906), (71.4704445, 51.1272955), (71.470522, 51.1274716), (71.4705852, 51.1276189), (71.4706453, 51.1277553), (71.4712919, 51.1293756), (71.4713052, 51.1294809), (71.4713282, 51.1296635), (71.4713458, 51.1301956), (71.4713099, 51.130427), (71.4711577, 51.1309014), (71.4710252, 51.1311382), (71.4707291, 51.1315451), (71.4705465, 51.1317934), (71.468864, 51.1340961), (71.4673947, 51.136107), (71.4670271, 51.13661), (71.466922, 51.136754), (71.4668502, 51.1368522), (71.4667509, 51.1369881), (71.4661232, 51.1378582), (71.46565, 51.1384947), (71.4651288, 51.139208), (71.464548, 51.1400028), (71.4641679, 51.1405229), (71.4638747, 51.1409241), (71.4632976, 51.1417138), (71.4622912, 51.1431126), (71.4622094, 51.1432264), (71.4621346, 51.1433266), (71.4620909, 51.1433911), (71.4614645, 51.1442617), (71.4607687, 51.1452288), (71.4606589, 51.1453814), (71.4601693, 51.1460619), (71.4603769, 51.1460861), (71.4607274, 51.1461297), (71.4613676, 51.1461217), (71.4621352, 51.1461121), (71.4628013, 51.1461038), (71.463564, 51.1460943), (71.4636949, 51.1460927), (71.464142, 51.1460871), (71.4645725741037, 51.1460204283819)]\n",
            "Path2 (муфта → здание): [(71.4645725741037, 51.1460204283819), (71.464142, 51.1460871), (71.4651405, 51.1460746), (71.46486093333334, 51.145592244444444)]\n",
            "Full path: [(71.47199859011246, 51.12441662982257), (71.472438, 51.1242196), (71.469684, 51.1246545), (71.4693061, 51.1247227), (71.4693617, 51.1248567), (71.4695185, 51.1251956), (71.4703025, 51.1269906), (71.4704445, 51.1272955), (71.470522, 51.1274716), (71.4705852, 51.1276189), (71.4706453, 51.1277553), (71.4712919, 51.1293756), (71.4713052, 51.1294809), (71.4713282, 51.1296635), (71.4713458, 51.1301956), (71.4713099, 51.130427), (71.4711577, 51.1309014), (71.4710252, 51.1311382), (71.4707291, 51.1315451), (71.4705465, 51.1317934), (71.468864, 51.1340961), (71.4673947, 51.136107), (71.4670271, 51.13661), (71.466922, 51.136754), (71.4668502, 51.1368522), (71.4667509, 51.1369881), (71.4661232, 51.1378582), (71.46565, 51.1384947), (71.4651288, 51.139208), (71.464548, 51.1400028), (71.4641679, 51.1405229), (71.4638747, 51.1409241), (71.4632976, 51.1417138), (71.4622912, 51.1431126), (71.4622094, 51.1432264), (71.4621346, 51.1433266), (71.4620909, 51.1433911), (71.4614645, 51.1442617), (71.4607687, 51.1452288), (71.4606589, 51.1453814), (71.4601693, 51.1460619), (71.4603769, 51.1460861), (71.4607274, 51.1461297), (71.4613676, 51.1461217), (71.4621352, 51.1461121), (71.4628013, 51.1461038), (71.463564, 51.1460943), (71.4636949, 51.1460927), (71.464142, 51.1460871), (71.4645725741037, 51.1460204283819), (71.464142, 51.1460871), (71.4651405, 51.1460746), (71.46486093333334, 51.145592244444444)]\n",
            "График сохранен в 'network_visualization.html'\n"
          ]
        }
      ],
      "source": [
        "if __name__ == \"__main__\":\n",
        "    import random\n",
        "    import plotly.io as pio\n",
        "\n",
        "    # Устанавливаем рендерер для отображения в браузере (для скриптов вне Jupyter)\n",
        "    pio.renderers.default = 'browser'\n",
        "\n",
        "    # Укажи реальные пути к файлам, если они у тебя есть\n",
        "    roads_file = \"mainroads.geojson\"\n",
        "    muffs_file = \"centroidMufta.geojson\"\n",
        "    manholes_file = \"manholesFinal.geojson\"\n",
        "    buildings_file = \"buildings.geojson\"\n",
        "\n",
        "    # Проверяем наличие файлов\n",
        "    for file in [roads_file, muffs_file, manholes_file, buildings_file]:\n",
        "        if file and not os.path.exists(file):\n",
        "            print(f\"Файл {file} не найден, будут использованы тестовые данные.\")\n",
        "\n",
        "    # Создаем объект сети\n",
        "    network = FiberNetworkFromRealData(\n",
        "        roads_file=roads_file,\n",
        "        muffs_file=muffs_file,\n",
        "        manholes_file=manholes_file,\n",
        "        buildings_file=buildings_file\n",
        "    )\n",
        "\n",
        "    # Проверяем, что данные загружены\n",
        "    print(f\"Дороги: {len(network.roads)}, Муфты: {len(network.muffs)}, Колодцы: {len(network.wells)}, Здания: {len(network.buildings)}\")\n",
        "    print(f\"Тестовые здания: {len(network.test_buildings)}, АТС: {network.ats}\")\n",
        "\n",
        "    # Выбираем здание случайно (реальное или тестовое)\n",
        "    if network.buildings:\n",
        "        target_building = random.choice(network.buildings)\n",
        "        building_point = target_building['centroid']\n",
        "        print(f\"Выбрано реальное здание: {target_building['name']}, центроид: {building_point}\")\n",
        "    elif network.test_buildings:\n",
        "        target_building = random.choice(network.test_buildings)\n",
        "        building_point = (target_building[0], target_building[1])\n",
        "        print(f\"Выбрано тестовое здание, координаты: {building_point}\")\n",
        "    else:\n",
        "        print(\"Нет доступных зданий для подключения.\")\n",
        "        exit(1)\n",
        "\n",
        "    # Проверяем наличие муфт\n",
        "    if not network.muffs:\n",
        "        print(\"Нет доступных муфт для подключения.\")\n",
        "        exit(1)\n",
        "\n",
        "    # Выбираем ближайшую муфту\n",
        "    nearest_muff, distance = network.find_nearest_point(building_point, network.muffs)\n",
        "    print(f\"Ближайшая муфта: {nearest_muff}, расстояние: {distance}\")\n",
        "\n",
        "    # Строим маршрут: АТС → муфта → здание\n",
        "    path1 = network.find_path_through_infrastructure(network.ats, (nearest_muff[0], nearest_muff[1]))\n",
        "    path2 = network.find_path_through_infrastructure((nearest_muff[0], nearest_muff[1]), building_point)\n",
        "    full_path = path1[:-1] + path2  # соединяем, убирая дублирующую муфту\n",
        "    print(f\"Path1 (АТС → муфта): {path1}\")\n",
        "    print(f\"Path2 (муфта → здание): {path2}\")\n",
        "    print(f\"Full path: {full_path}\")\n",
        "\n",
        "    # Визуализация\n",
        "    try:\n",
        "        network.visualize_path_plotly(start=network.ats, end=building_point, path_coords=full_path)\n",
        "    except Exception as e:\n",
        "        print(f\"Ошибка при визуализации: {e}\")\n",
        "        print(\"Проверьте 'network_visualization.html' для результатов.\")"
      ]
    },
    {
      "cell_type": "code",
      "execution_count": null,
      "id": "852fae35-a33c-4380-b433-8b307bb2ed1e",
      "metadata": {
        "id": "852fae35-a33c-4380-b433-8b307bb2ed1e"
      },
      "outputs": [],
      "source": []
    }
  ],
  "metadata": {
    "kernelspec": {
      "display_name": "Python [conda env:base] *",
      "language": "python",
      "name": "conda-base-py"
    },
    "language_info": {
      "codemirror_mode": {
        "name": "ipython",
        "version": 3
      },
      "file_extension": ".py",
      "mimetype": "text/x-python",
      "name": "python",
      "nbconvert_exporter": "python",
      "pygments_lexer": "ipython3",
      "version": "3.12.3"
    },
    "colab": {
      "provenance": []
    }
  },
  "nbformat": 4,
  "nbformat_minor": 5
}